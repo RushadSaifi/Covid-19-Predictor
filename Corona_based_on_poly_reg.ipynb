{
 "cells": [
  {
   "cell_type": "markdown",
   "metadata": {
    "colab_type": "text",
    "id": "vN99YjPTDena"
   },
   "source": [
    "# Polynomial Regression"
   ]
  },
  {
   "cell_type": "markdown",
   "metadata": {
    "colab_type": "text",
    "id": "ZIx_naXnDyHd"
   },
   "source": [
    "## Importing the libraries"
   ]
  },
  {
   "cell_type": "code",
   "execution_count": 9,
   "metadata": {
    "colab": {},
    "colab_type": "code",
    "id": "FjnmdyPLD2tS"
   },
   "outputs": [],
   "source": [
    "import numpy as np\n",
    "import pandas as pd"
   ]
  },
  {
   "cell_type": "markdown",
   "metadata": {
    "colab_type": "text",
    "id": "6c8YExmOD5x5"
   },
   "source": [
    "## Importing the dataset for Total Cases"
   ]
  },
  {
   "cell_type": "code",
   "execution_count": 10,
   "metadata": {
    "colab": {},
    "colab_type": "code",
    "id": "nQOdXhjXD_AE"
   },
   "outputs": [],
   "source": [
    "dataset = pd.read_csv('CoronaData.csv')\n",
    "X = dataset.iloc[:, 1:2].values\n",
    "y = dataset.iloc[:, 3:4].values"
   ]
  },
  {
   "cell_type": "markdown",
   "metadata": {},
   "source": [
    "## Importing the dataset for cases Per Day"
   ]
  },
  {
   "cell_type": "code",
   "execution_count": 11,
   "metadata": {},
   "outputs": [],
   "source": [
    "X2 = dataset.iloc[:, 1:2].values\n",
    "y2 = dataset.iloc[:, 2:3].values"
   ]
  },
  {
   "cell_type": "markdown",
   "metadata": {
    "colab_type": "text",
    "id": "Rb5nWuSHEfBV"
   },
   "source": [
    "## Training model for Total Cases"
   ]
  },
  {
   "cell_type": "code",
   "execution_count": 12,
   "metadata": {
    "colab": {},
    "colab_type": "code",
    "id": "HYplp4pTEm0O"
   },
   "outputs": [
    {
     "data": {
      "text/plain": [
       "LinearRegression(copy_X=True, fit_intercept=True, n_jobs=None, normalize=False)"
      ]
     },
     "execution_count": 12,
     "metadata": {},
     "output_type": "execute_result"
    }
   ],
   "source": [
    "from sklearn.preprocessing import PolynomialFeatures\n",
    "from sklearn.linear_model import LinearRegression\n",
    "poly_reg = PolynomialFeatures(degree = 4)\n",
    "X_poly = poly_reg.fit_transform(X)\n",
    "regressor = LinearRegression()\n",
    "regressor.fit(X_poly, y)"
   ]
  },
  {
   "cell_type": "markdown",
   "metadata": {},
   "source": [
    "## Training Model for Cases Per Day"
   ]
  },
  {
   "cell_type": "code",
   "execution_count": 13,
   "metadata": {},
   "outputs": [
    {
     "data": {
      "text/plain": [
       "LinearRegression(copy_X=True, fit_intercept=True, n_jobs=None, normalize=False)"
      ]
     },
     "execution_count": 13,
     "metadata": {},
     "output_type": "execute_result"
    }
   ],
   "source": [
    "poly_reg2 = PolynomialFeatures(degree = 4)\n",
    "X_poly2 = poly_reg2.fit_transform(X2)\n",
    "regressor2 = LinearRegression()\n",
    "regressor2.fit(X_poly2, y2)"
   ]
  },
  {
   "cell_type": "markdown",
   "metadata": {
    "colab_type": "text",
    "id": "Fz1uTlWV919-"
   },
   "source": [
    "## Prediction for Total Cases & Perday Cases"
   ]
  },
  {
   "cell_type": "code",
   "execution_count": 14,
   "metadata": {},
   "outputs": [],
   "source": [
    "def func(d):\n",
    "    a = regressor.predict(poly_reg.transform([[d]]))\n",
    "    a2 = regressor2.predict(poly_reg2.transform([[d]]))\n",
    "    a3 = '{:.2f}'.format(a[0][0])\n",
    "    a4 = '{:.2f}'.format(a2[0][0])\n",
    "    return f\"The total no. of Cases will be : {a3} & \\n The Total no. of Cases Per Day will be : {a4}\"    \n",
    "    "
   ]
  },
  {
   "cell_type": "code",
   "execution_count": 15,
   "metadata": {},
   "outputs": [],
   "source": [
    "from datetime import datetime, date\n",
    "def func1():\n",
    "    l = cal.get_date().split('/')\n",
    "    t1 = date(year = int('20'+l[2]), month = int(l[0]), day = int(l[1]))\n",
    "    t2 = date(year = 2019, month = 12, day = 31)\n",
    "    t3 = int(str(t1 - t2).split(' ')[0])\n",
    "    t4 = func(t3)\n",
    "    return t4"
   ]
  },
  {
   "cell_type": "code",
   "execution_count": 17,
   "metadata": {},
   "outputs": [],
   "source": [
    "import tkinter as tk\n",
    "import tkinter as ttk\n",
    "import tkcalendar as tc\n",
    "from PIL import Image, ImageTk\n",
    "\n",
    "root = tk.Tk()\n",
    "root.title('Covid-19 Predictor')\n",
    "root.iconbitmap('tr.ico')\n",
    "root.geometry('1380x766')\n",
    "\n",
    "\n",
    "lab = tk.Frame(root, background='light blue', width = 800, height = 1400)\n",
    "lab.pack(fill=tk.X)\n",
    "\n",
    "cal = tc.Calendar(lab, selectmode = 'day', year = 2020, month = 7, day = 8)\n",
    "cal.pack(padx = 200)\n",
    "\n",
    "\n",
    "def grab_date():\n",
    "    mylabel.config(text = cal.get_date())\n",
    "    mylabel1.config(text = func1())\n",
    "\n",
    "    \n",
    "button = ttk.Button(lab, text = \"Click to Check\", command = grab_date, bg = 'Blue', fg = 'yellow')\n",
    "button.pack()\n",
    "\n",
    "mylabel = ttk.Label(lab, text = 'Total Case : ', font = 'Times 32', fg = 'blue', bg = 'light blue')\n",
    "mylabel.pack()\n",
    "\n",
    "mylabel1 = ttk.Label(lab, text = 'Total Case/Day : ', font = 'Times 32', fg = 'red', bg = 'light blue')\n",
    "mylabel1.pack()\n",
    "\n",
    "mylabel2 = ttk.Label(lab, text = '', font = 'Times 32', fg = 'blue', bg = 'light blue')\n",
    "mylabel2.pack()\n",
    "\n",
    "mylabel3 = ttk.Label(lab, text = '', font = 'Times 32', fg = 'red', bg = 'light blue')\n",
    "mylabel3.pack()\n",
    "\n",
    "mylabel4 = ttk.Label(lab, text = '', font = 'Times 32', fg = 'blue', bg = 'light blue')\n",
    "mylabel4.pack()\n",
    "\n",
    "\n",
    "mylabel6 = ttk.Label(lab, text = 'Note:- These Preditions is Based on the Indian Covid-19 Data. It May or May Not be 100% Correct', font = 'Verdana 16', fg = 'black', bg = 'yellow')\n",
    "mylabel6.pack(fill = tk.X, ipady = 30)\n",
    "\n",
    "mylabel7 = ttk.Label(lab, text = '', font = 'Times 32', fg = 'blue', bg = 'light blue')\n",
    "mylabel7.pack()\n",
    "\n",
    "mylabel8 = ttk.Label(lab, text = '', font = 'Times 32', fg = 'blue', bg = 'light blue')\n",
    "mylabel8.pack()\n",
    "\n",
    "\n",
    "root.mainloop()"
   ]
  },
  {
   "cell_type": "code",
   "execution_count": null,
   "metadata": {},
   "outputs": [],
   "source": []
  },
  {
   "cell_type": "code",
   "execution_count": null,
   "metadata": {},
   "outputs": [],
   "source": []
  }
 ],
 "metadata": {
  "colab": {
   "collapsed_sections": [],
   "name": "polynomial_regression.ipynb",
   "provenance": [],
   "toc_visible": true
  },
  "kernelspec": {
   "display_name": "Python 3",
   "language": "python",
   "name": "python3"
  },
  "language_info": {
   "codemirror_mode": {
    "name": "ipython",
    "version": 3
   },
   "file_extension": ".py",
   "mimetype": "text/x-python",
   "name": "python",
   "nbconvert_exporter": "python",
   "pygments_lexer": "ipython3",
   "version": "3.7.6"
  }
 },
 "nbformat": 4,
 "nbformat_minor": 1
}
